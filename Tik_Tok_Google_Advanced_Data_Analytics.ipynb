{
 "cells": [
  {
   "cell_type": "markdown",
   "id": "de0a25e2-df5a-4173-b4a2-3d0c851f6546",
   "metadata": {},
   "source": [
    "# **TikTok Project**\n",
    "**End-of-course project**"
   ]
  },
  {
   "cell_type": "markdown",
   "id": "ac861be5-64cf-4fb8-9e1e-54d70769fb07",
   "metadata": {},
   "source": [
    "Welcome to the TikTok Project!\n",
    "\n",
    "You have just started as a data professional at TikTok.\n",
    "\n",
    "The team is still in the early stages of the project. You have received notice that TikTok's leadership team has approved the project proposal. To gain clear insights to prepare for a claims classification model, TikTok's provided data must be examined to begin the process of exploratory data analysis (EDA)."
   ]
  },
  {
   "cell_type": "markdown",
   "id": "a2e84537-a37c-4872-87c4-53f6e9523e29",
   "metadata": {},
   "source": [
    "**Project plan**\n",
    "\n",
    "TikTok is working on the development of a predictive model that can determine whether a video contains a claim or offers an opinion. With a successful prediction model, TikTok can reduce the backlog of user reports and prioritize them more efficiently\n",
    "Project background \n",
    "In this activity, you will examine data provided and prepare it for analysis.\n",
    "<br/>\n",
    "\n",
    "**The purpose** of this project is to investigate and understand the data provided. This activity will:\n",
    "\n",
    "1.   Acquaint you with the data\n",
    "\n",
    "2.   Compile summary information about the data\n",
    "\n",
    "3.   Begin the process of EDA and reveal insights contained in the data\n",
    "\n",
    "4.   Prepare you for more in-depth EDA, hypothesis testing, and statistical analysis\n",
    "\n",
    "**The goal** is to construct a dataframe in Python, perform a cursory inspection of the provided dataset, and inform TikTok data team members of your findings.\n",
    "<br/>\n",
    "*This activity has three parts:*\n",
    "\n",
    "**Part 1:** Understand the situation\n",
    "* How can you best prepare to understand and organize the provided TikTok information?\n",
    "\n",
    "**Part 2:** Understand the data\n",
    "\n",
    "* Create a pandas dataframe for data learning and future exploratory data analysis (EDA) and statistical activities\n",
    "\n",
    "* Compile summary information about the data to inform next steps\n",
    "\n",
    "**Part 3:** Understand the variables\n",
    "\n",
    "* Use insights from your examination of the summary data to guide deeper investigation into variables\n",
    "\n",
    "<br/>\n",
    "\n",
    "\n",
    "TikTok’s data team is in the earliest stages of the claims classification project. The **following tasks** are needed before the team can begin the data analysis process: \n",
    "\n",
    " *\tA project proposal identifying the following: \n",
    "\n",
    "    * Organize project tasks into milestones \n",
    "\n",
    "    * Classify tasks using the PACE workflow \n",
    "\n",
    "    * Identify relevant stakeholders \n",
    "\n",
    "**Course 1 PACE Strategy Document** to plan your project while considering your audience members, teammates, key milestones, and overall project goal. \n",
    "\n",
    "**Create a project proposal for the data team.**\n",
    "\n",
    "For your first assignment, TikTok is asking for a project proposal that will create milestones for the tasks within the comment classification project. Remember to take into account your audience, team, project goal, and PACE stages of each task in planning your project deliverable.\n",
    "\n",
    "If you selected the TikTok scenario, you are working on the development of a predictive model that can be used to determine whether a video contains a claim or whether it offers an opinion.\n"
   ]
  },
  {
   "cell_type": "markdown",
   "id": "6b1957f2-0ab0-4bdf-9857-b756be96ba21",
   "metadata": {},
   "source": [
    "# **TikTok users have the ability to report videos and comments that contain user claims.**\n",
    "\n",
    "These reports identify content that needs to be reviewed by moderators.\n",
    "\n",
    "This process generates a large number of user reports that are difficult to address quickly.\n",
    "\n",
    "Development of a predictive model that can determine whether a video contains a claim or offers an opinion.\n",
    "\n",
    "With a successful prediction model, TikTok can reduce the backlog of user reports and prioritize them more efficiently.\n"
   ]
  },
  {
   "cell_type": "code",
   "execution_count": 1,
   "id": "8ab20e73-fe50-41a9-9720-51fb4341a184",
   "metadata": {},
   "outputs": [],
   "source": [
    "import pandas as pd\n",
    "import numpy as np\n",
    "import matplotlib.pyplot as plt\n",
    "import seaborn as sns"
   ]
  },
  {
   "cell_type": "code",
   "execution_count": 2,
   "id": "c5cebb7d-7218-4005-9a7a-05366ab12846",
   "metadata": {},
   "outputs": [
    {
     "ename": "FileNotFoundError",
     "evalue": "[Errno 2] No such file or directory: 'tiktok_dataset.csv'",
     "output_type": "error",
     "traceback": [
      "\u001b[1;31m---------------------------------------------------------------------------\u001b[0m",
      "\u001b[1;31mFileNotFoundError\u001b[0m                         Traceback (most recent call last)",
      "Cell \u001b[1;32mIn[2], line 1\u001b[0m\n\u001b[1;32m----> 1\u001b[0m tik_tok_data \u001b[38;5;241m=\u001b[39m \u001b[43mpd\u001b[49m\u001b[38;5;241;43m.\u001b[39;49m\u001b[43mread_csv\u001b[49m\u001b[43m(\u001b[49m\u001b[38;5;124;43m\"\u001b[39;49m\u001b[38;5;124;43mtiktok_dataset.csv\u001b[39;49m\u001b[38;5;124;43m\"\u001b[39;49m\u001b[43m)\u001b[49m\n",
      "File \u001b[1;32m~\\AppData\\Local\\Programs\\Python\\Python312\\Lib\\site-packages\\pandas\\io\\parsers\\readers.py:1026\u001b[0m, in \u001b[0;36mread_csv\u001b[1;34m(filepath_or_buffer, sep, delimiter, header, names, index_col, usecols, dtype, engine, converters, true_values, false_values, skipinitialspace, skiprows, skipfooter, nrows, na_values, keep_default_na, na_filter, verbose, skip_blank_lines, parse_dates, infer_datetime_format, keep_date_col, date_parser, date_format, dayfirst, cache_dates, iterator, chunksize, compression, thousands, decimal, lineterminator, quotechar, quoting, doublequote, escapechar, comment, encoding, encoding_errors, dialect, on_bad_lines, delim_whitespace, low_memory, memory_map, float_precision, storage_options, dtype_backend)\u001b[0m\n\u001b[0;32m   1013\u001b[0m kwds_defaults \u001b[38;5;241m=\u001b[39m _refine_defaults_read(\n\u001b[0;32m   1014\u001b[0m     dialect,\n\u001b[0;32m   1015\u001b[0m     delimiter,\n\u001b[1;32m   (...)\u001b[0m\n\u001b[0;32m   1022\u001b[0m     dtype_backend\u001b[38;5;241m=\u001b[39mdtype_backend,\n\u001b[0;32m   1023\u001b[0m )\n\u001b[0;32m   1024\u001b[0m kwds\u001b[38;5;241m.\u001b[39mupdate(kwds_defaults)\n\u001b[1;32m-> 1026\u001b[0m \u001b[38;5;28;01mreturn\u001b[39;00m \u001b[43m_read\u001b[49m\u001b[43m(\u001b[49m\u001b[43mfilepath_or_buffer\u001b[49m\u001b[43m,\u001b[49m\u001b[43m \u001b[49m\u001b[43mkwds\u001b[49m\u001b[43m)\u001b[49m\n",
      "File \u001b[1;32m~\\AppData\\Local\\Programs\\Python\\Python312\\Lib\\site-packages\\pandas\\io\\parsers\\readers.py:620\u001b[0m, in \u001b[0;36m_read\u001b[1;34m(filepath_or_buffer, kwds)\u001b[0m\n\u001b[0;32m    617\u001b[0m _validate_names(kwds\u001b[38;5;241m.\u001b[39mget(\u001b[38;5;124m\"\u001b[39m\u001b[38;5;124mnames\u001b[39m\u001b[38;5;124m\"\u001b[39m, \u001b[38;5;28;01mNone\u001b[39;00m))\n\u001b[0;32m    619\u001b[0m \u001b[38;5;66;03m# Create the parser.\u001b[39;00m\n\u001b[1;32m--> 620\u001b[0m parser \u001b[38;5;241m=\u001b[39m \u001b[43mTextFileReader\u001b[49m\u001b[43m(\u001b[49m\u001b[43mfilepath_or_buffer\u001b[49m\u001b[43m,\u001b[49m\u001b[43m \u001b[49m\u001b[38;5;241;43m*\u001b[39;49m\u001b[38;5;241;43m*\u001b[39;49m\u001b[43mkwds\u001b[49m\u001b[43m)\u001b[49m\n\u001b[0;32m    622\u001b[0m \u001b[38;5;28;01mif\u001b[39;00m chunksize \u001b[38;5;129;01mor\u001b[39;00m iterator:\n\u001b[0;32m    623\u001b[0m     \u001b[38;5;28;01mreturn\u001b[39;00m parser\n",
      "File \u001b[1;32m~\\AppData\\Local\\Programs\\Python\\Python312\\Lib\\site-packages\\pandas\\io\\parsers\\readers.py:1620\u001b[0m, in \u001b[0;36mTextFileReader.__init__\u001b[1;34m(self, f, engine, **kwds)\u001b[0m\n\u001b[0;32m   1617\u001b[0m     \u001b[38;5;28mself\u001b[39m\u001b[38;5;241m.\u001b[39moptions[\u001b[38;5;124m\"\u001b[39m\u001b[38;5;124mhas_index_names\u001b[39m\u001b[38;5;124m\"\u001b[39m] \u001b[38;5;241m=\u001b[39m kwds[\u001b[38;5;124m\"\u001b[39m\u001b[38;5;124mhas_index_names\u001b[39m\u001b[38;5;124m\"\u001b[39m]\n\u001b[0;32m   1619\u001b[0m \u001b[38;5;28mself\u001b[39m\u001b[38;5;241m.\u001b[39mhandles: IOHandles \u001b[38;5;241m|\u001b[39m \u001b[38;5;28;01mNone\u001b[39;00m \u001b[38;5;241m=\u001b[39m \u001b[38;5;28;01mNone\u001b[39;00m\n\u001b[1;32m-> 1620\u001b[0m \u001b[38;5;28mself\u001b[39m\u001b[38;5;241m.\u001b[39m_engine \u001b[38;5;241m=\u001b[39m \u001b[38;5;28;43mself\u001b[39;49m\u001b[38;5;241;43m.\u001b[39;49m\u001b[43m_make_engine\u001b[49m\u001b[43m(\u001b[49m\u001b[43mf\u001b[49m\u001b[43m,\u001b[49m\u001b[43m \u001b[49m\u001b[38;5;28;43mself\u001b[39;49m\u001b[38;5;241;43m.\u001b[39;49m\u001b[43mengine\u001b[49m\u001b[43m)\u001b[49m\n",
      "File \u001b[1;32m~\\AppData\\Local\\Programs\\Python\\Python312\\Lib\\site-packages\\pandas\\io\\parsers\\readers.py:1880\u001b[0m, in \u001b[0;36mTextFileReader._make_engine\u001b[1;34m(self, f, engine)\u001b[0m\n\u001b[0;32m   1878\u001b[0m     \u001b[38;5;28;01mif\u001b[39;00m \u001b[38;5;124m\"\u001b[39m\u001b[38;5;124mb\u001b[39m\u001b[38;5;124m\"\u001b[39m \u001b[38;5;129;01mnot\u001b[39;00m \u001b[38;5;129;01min\u001b[39;00m mode:\n\u001b[0;32m   1879\u001b[0m         mode \u001b[38;5;241m+\u001b[39m\u001b[38;5;241m=\u001b[39m \u001b[38;5;124m\"\u001b[39m\u001b[38;5;124mb\u001b[39m\u001b[38;5;124m\"\u001b[39m\n\u001b[1;32m-> 1880\u001b[0m \u001b[38;5;28mself\u001b[39m\u001b[38;5;241m.\u001b[39mhandles \u001b[38;5;241m=\u001b[39m \u001b[43mget_handle\u001b[49m\u001b[43m(\u001b[49m\n\u001b[0;32m   1881\u001b[0m \u001b[43m    \u001b[49m\u001b[43mf\u001b[49m\u001b[43m,\u001b[49m\n\u001b[0;32m   1882\u001b[0m \u001b[43m    \u001b[49m\u001b[43mmode\u001b[49m\u001b[43m,\u001b[49m\n\u001b[0;32m   1883\u001b[0m \u001b[43m    \u001b[49m\u001b[43mencoding\u001b[49m\u001b[38;5;241;43m=\u001b[39;49m\u001b[38;5;28;43mself\u001b[39;49m\u001b[38;5;241;43m.\u001b[39;49m\u001b[43moptions\u001b[49m\u001b[38;5;241;43m.\u001b[39;49m\u001b[43mget\u001b[49m\u001b[43m(\u001b[49m\u001b[38;5;124;43m\"\u001b[39;49m\u001b[38;5;124;43mencoding\u001b[39;49m\u001b[38;5;124;43m\"\u001b[39;49m\u001b[43m,\u001b[49m\u001b[43m \u001b[49m\u001b[38;5;28;43;01mNone\u001b[39;49;00m\u001b[43m)\u001b[49m\u001b[43m,\u001b[49m\n\u001b[0;32m   1884\u001b[0m \u001b[43m    \u001b[49m\u001b[43mcompression\u001b[49m\u001b[38;5;241;43m=\u001b[39;49m\u001b[38;5;28;43mself\u001b[39;49m\u001b[38;5;241;43m.\u001b[39;49m\u001b[43moptions\u001b[49m\u001b[38;5;241;43m.\u001b[39;49m\u001b[43mget\u001b[49m\u001b[43m(\u001b[49m\u001b[38;5;124;43m\"\u001b[39;49m\u001b[38;5;124;43mcompression\u001b[39;49m\u001b[38;5;124;43m\"\u001b[39;49m\u001b[43m,\u001b[49m\u001b[43m \u001b[49m\u001b[38;5;28;43;01mNone\u001b[39;49;00m\u001b[43m)\u001b[49m\u001b[43m,\u001b[49m\n\u001b[0;32m   1885\u001b[0m \u001b[43m    \u001b[49m\u001b[43mmemory_map\u001b[49m\u001b[38;5;241;43m=\u001b[39;49m\u001b[38;5;28;43mself\u001b[39;49m\u001b[38;5;241;43m.\u001b[39;49m\u001b[43moptions\u001b[49m\u001b[38;5;241;43m.\u001b[39;49m\u001b[43mget\u001b[49m\u001b[43m(\u001b[49m\u001b[38;5;124;43m\"\u001b[39;49m\u001b[38;5;124;43mmemory_map\u001b[39;49m\u001b[38;5;124;43m\"\u001b[39;49m\u001b[43m,\u001b[49m\u001b[43m \u001b[49m\u001b[38;5;28;43;01mFalse\u001b[39;49;00m\u001b[43m)\u001b[49m\u001b[43m,\u001b[49m\n\u001b[0;32m   1886\u001b[0m \u001b[43m    \u001b[49m\u001b[43mis_text\u001b[49m\u001b[38;5;241;43m=\u001b[39;49m\u001b[43mis_text\u001b[49m\u001b[43m,\u001b[49m\n\u001b[0;32m   1887\u001b[0m \u001b[43m    \u001b[49m\u001b[43merrors\u001b[49m\u001b[38;5;241;43m=\u001b[39;49m\u001b[38;5;28;43mself\u001b[39;49m\u001b[38;5;241;43m.\u001b[39;49m\u001b[43moptions\u001b[49m\u001b[38;5;241;43m.\u001b[39;49m\u001b[43mget\u001b[49m\u001b[43m(\u001b[49m\u001b[38;5;124;43m\"\u001b[39;49m\u001b[38;5;124;43mencoding_errors\u001b[39;49m\u001b[38;5;124;43m\"\u001b[39;49m\u001b[43m,\u001b[49m\u001b[43m \u001b[49m\u001b[38;5;124;43m\"\u001b[39;49m\u001b[38;5;124;43mstrict\u001b[39;49m\u001b[38;5;124;43m\"\u001b[39;49m\u001b[43m)\u001b[49m\u001b[43m,\u001b[49m\n\u001b[0;32m   1888\u001b[0m \u001b[43m    \u001b[49m\u001b[43mstorage_options\u001b[49m\u001b[38;5;241;43m=\u001b[39;49m\u001b[38;5;28;43mself\u001b[39;49m\u001b[38;5;241;43m.\u001b[39;49m\u001b[43moptions\u001b[49m\u001b[38;5;241;43m.\u001b[39;49m\u001b[43mget\u001b[49m\u001b[43m(\u001b[49m\u001b[38;5;124;43m\"\u001b[39;49m\u001b[38;5;124;43mstorage_options\u001b[39;49m\u001b[38;5;124;43m\"\u001b[39;49m\u001b[43m,\u001b[49m\u001b[43m \u001b[49m\u001b[38;5;28;43;01mNone\u001b[39;49;00m\u001b[43m)\u001b[49m\u001b[43m,\u001b[49m\n\u001b[0;32m   1889\u001b[0m \u001b[43m\u001b[49m\u001b[43m)\u001b[49m\n\u001b[0;32m   1890\u001b[0m \u001b[38;5;28;01massert\u001b[39;00m \u001b[38;5;28mself\u001b[39m\u001b[38;5;241m.\u001b[39mhandles \u001b[38;5;129;01mis\u001b[39;00m \u001b[38;5;129;01mnot\u001b[39;00m \u001b[38;5;28;01mNone\u001b[39;00m\n\u001b[0;32m   1891\u001b[0m f \u001b[38;5;241m=\u001b[39m \u001b[38;5;28mself\u001b[39m\u001b[38;5;241m.\u001b[39mhandles\u001b[38;5;241m.\u001b[39mhandle\n",
      "File \u001b[1;32m~\\AppData\\Local\\Programs\\Python\\Python312\\Lib\\site-packages\\pandas\\io\\common.py:873\u001b[0m, in \u001b[0;36mget_handle\u001b[1;34m(path_or_buf, mode, encoding, compression, memory_map, is_text, errors, storage_options)\u001b[0m\n\u001b[0;32m    868\u001b[0m \u001b[38;5;28;01melif\u001b[39;00m \u001b[38;5;28misinstance\u001b[39m(handle, \u001b[38;5;28mstr\u001b[39m):\n\u001b[0;32m    869\u001b[0m     \u001b[38;5;66;03m# Check whether the filename is to be opened in binary mode.\u001b[39;00m\n\u001b[0;32m    870\u001b[0m     \u001b[38;5;66;03m# Binary mode does not support 'encoding' and 'newline'.\u001b[39;00m\n\u001b[0;32m    871\u001b[0m     \u001b[38;5;28;01mif\u001b[39;00m ioargs\u001b[38;5;241m.\u001b[39mencoding \u001b[38;5;129;01mand\u001b[39;00m \u001b[38;5;124m\"\u001b[39m\u001b[38;5;124mb\u001b[39m\u001b[38;5;124m\"\u001b[39m \u001b[38;5;129;01mnot\u001b[39;00m \u001b[38;5;129;01min\u001b[39;00m ioargs\u001b[38;5;241m.\u001b[39mmode:\n\u001b[0;32m    872\u001b[0m         \u001b[38;5;66;03m# Encoding\u001b[39;00m\n\u001b[1;32m--> 873\u001b[0m         handle \u001b[38;5;241m=\u001b[39m \u001b[38;5;28;43mopen\u001b[39;49m\u001b[43m(\u001b[49m\n\u001b[0;32m    874\u001b[0m \u001b[43m            \u001b[49m\u001b[43mhandle\u001b[49m\u001b[43m,\u001b[49m\n\u001b[0;32m    875\u001b[0m \u001b[43m            \u001b[49m\u001b[43mioargs\u001b[49m\u001b[38;5;241;43m.\u001b[39;49m\u001b[43mmode\u001b[49m\u001b[43m,\u001b[49m\n\u001b[0;32m    876\u001b[0m \u001b[43m            \u001b[49m\u001b[43mencoding\u001b[49m\u001b[38;5;241;43m=\u001b[39;49m\u001b[43mioargs\u001b[49m\u001b[38;5;241;43m.\u001b[39;49m\u001b[43mencoding\u001b[49m\u001b[43m,\u001b[49m\n\u001b[0;32m    877\u001b[0m \u001b[43m            \u001b[49m\u001b[43merrors\u001b[49m\u001b[38;5;241;43m=\u001b[39;49m\u001b[43merrors\u001b[49m\u001b[43m,\u001b[49m\n\u001b[0;32m    878\u001b[0m \u001b[43m            \u001b[49m\u001b[43mnewline\u001b[49m\u001b[38;5;241;43m=\u001b[39;49m\u001b[38;5;124;43m\"\u001b[39;49m\u001b[38;5;124;43m\"\u001b[39;49m\u001b[43m,\u001b[49m\n\u001b[0;32m    879\u001b[0m \u001b[43m        \u001b[49m\u001b[43m)\u001b[49m\n\u001b[0;32m    880\u001b[0m     \u001b[38;5;28;01melse\u001b[39;00m:\n\u001b[0;32m    881\u001b[0m         \u001b[38;5;66;03m# Binary mode\u001b[39;00m\n\u001b[0;32m    882\u001b[0m         handle \u001b[38;5;241m=\u001b[39m \u001b[38;5;28mopen\u001b[39m(handle, ioargs\u001b[38;5;241m.\u001b[39mmode)\n",
      "\u001b[1;31mFileNotFoundError\u001b[0m: [Errno 2] No such file or directory: 'tiktok_dataset.csv'"
     ]
    }
   ],
   "source": [
    "tik_tok_data = pd.read_csv(\"tiktok_dataset.csv\")"
   ]
  },
  {
   "cell_type": "code",
   "execution_count": null,
   "id": "8886a9f1-d781-4703-823c-a2f2b29b71d8",
   "metadata": {},
   "outputs": [],
   "source": [
    "tik_tok_df = pd.DataFrame(tik_tok_data)"
   ]
  },
  {
   "cell_type": "code",
   "execution_count": null,
   "id": "e26c77c0-b80a-4489-b1b4-f16c7b1eb2c1",
   "metadata": {},
   "outputs": [],
   "source": [
    "tik_tok_df.columns.tolist()"
   ]
  },
  {
   "cell_type": "code",
   "execution_count": null,
   "id": "f9543580-154f-4477-ac87-9dfcf22a4409",
   "metadata": {
    "scrolled": true
   },
   "outputs": [],
   "source": [
    "tik_tok_df.head(10)"
   ]
  },
  {
   "cell_type": "code",
   "execution_count": null,
   "id": "2a943f95-5601-4ce0-a90e-5dc7c9a6e31f",
   "metadata": {},
   "outputs": [],
   "source": [
    "tik_tok_df.describe()"
   ]
  },
  {
   "cell_type": "code",
   "execution_count": null,
   "id": "0be9ef44-5ff4-404b-9601-18d8bc05f2d8",
   "metadata": {},
   "outputs": [],
   "source": [
    "tik_tok_df.info()"
   ]
  },
  {
   "cell_type": "code",
   "execution_count": null,
   "id": "699e629c-ad85-45db-9719-8d8f51c98a12",
   "metadata": {
    "scrolled": true
   },
   "outputs": [],
   "source": [
    "tik_tok_df['claim_status'].value_counts()"
   ]
  },
  {
   "cell_type": "code",
   "execution_count": null,
   "id": "66f66419-4485-4386-932f-385192fc9d77",
   "metadata": {},
   "outputs": [],
   "source": [
    "claim = tik_tok_df[tik_tok_df['claim_status'] == 'claim']"
   ]
  },
  {
   "cell_type": "code",
   "execution_count": null,
   "id": "37150c41-1c56-4330-9b80-6da51e2236c6",
   "metadata": {},
   "outputs": [],
   "source": [
    "opinion = tik_tok_df[tik_tok_df['claim_status'] == 'opinion']"
   ]
  },
  {
   "cell_type": "code",
   "execution_count": null,
   "id": "02c1c280-5550-4cd5-9fed-9324d0933e65",
   "metadata": {},
   "outputs": [],
   "source": [
    "claim_na = tik_tok_df[tik_tok_df['claim_status'].isna()]"
   ]
  },
  {
   "cell_type": "markdown",
   "id": "53c8c8bd-1b37-4528-b9a7-ba99422b93cf",
   "metadata": {},
   "source": [
    "# Claim VS Opinion"
   ]
  },
  {
   "cell_type": "code",
   "execution_count": null,
   "id": "36cf059b-d638-41dc-8bae-b9e1b1c849a9",
   "metadata": {},
   "outputs": [],
   "source": [
    "print(\"Number of videos categorized as claims:\",len(claim))\n",
    "print(\"Number of videos categorized as opinions:\",len(opinion))\n",
    "print(\"Total # of categorized videos:\",len(opinion)+len(claim))\n",
    "print(\"Number of videos without a claim status:\", len(claim_na))"
   ]
  },
  {
   "cell_type": "code",
   "execution_count": null,
   "id": "4a4652b7-d3a3-489b-8511-26b33077711b",
   "metadata": {},
   "outputs": [],
   "source": [
    "tik_tok_df = tik_tok_df.dropna()"
   ]
  },
  {
   "cell_type": "code",
   "execution_count": null,
   "id": "46bd11ed-2a53-4e2b-8d6a-f7d6fde69a21",
   "metadata": {
    "scrolled": true
   },
   "outputs": [],
   "source": [
    "tik_tok_df"
   ]
  },
  {
   "cell_type": "markdown",
   "id": "d9e77d7f-83a3-470e-8a8e-0a805da31b4f",
   "metadata": {},
   "source": [
    "# Claim_status VS videos"
   ]
  },
  {
   "cell_type": "code",
   "execution_count": null,
   "id": "69e14940-6951-4f8e-8900-1f7d72f96b29",
   "metadata": {},
   "outputs": [],
   "source": [
    "claim_mean_med = claim.drop(columns=['#', 'video_id','video_duration_sec']).select_dtypes(include=[np.number]).agg(['mean', 'median']).round(2)"
   ]
  },
  {
   "cell_type": "code",
   "execution_count": null,
   "id": "10ffb965-36ce-4741-a548-b5b87c4ead67",
   "metadata": {},
   "outputs": [],
   "source": [
    "opinion_mean_med = opinion.drop(columns=['#', 'video_id','video_duration_sec']).select_dtypes(include=[np.number]).agg(['mean', 'median']).round(2)"
   ]
  },
  {
   "cell_type": "code",
   "execution_count": null,
   "id": "e70759bb-c1d8-40b6-9062-16aff163b923",
   "metadata": {},
   "outputs": [],
   "source": [
    "claim_vs_opinion_perc = ((claim_mean_med-opinion_mean_med)/claim_mean_med*100).round(2).drop('median').rename({'mean':'mean percentage'})"
   ]
  },
  {
   "cell_type": "code",
   "execution_count": null,
   "id": "370c76c8-8244-4154-952b-c0c9189ab2b3",
   "metadata": {},
   "outputs": [],
   "source": [
    "claims_fin = pd.concat({'claim':claim_mean_med, 'opinion':opinion_mean_med, 'percentage claim/opinion':claim_vs_opinion_perc})\n",
    "claims_fin"
   ]
  },
  {
   "cell_type": "markdown",
   "id": "30fa0dce-f502-4e5a-8d53-366cb3f54e40",
   "metadata": {},
   "source": [
    "It can be easily said that who makes claiming drags more more attention from other people. The amount of videos viewed, liked, shared, downloaded and commented are a lot higher compare to videos where people give opinions. The difference from who gives a statement compared to who gives an opinion ranges from 99.01% to 99.61%. There are no variations in video duration."
   ]
  },
  {
   "cell_type": "markdown",
   "id": "4a79fc3f-8130-49c1-8630-4d07fc77f632",
   "metadata": {},
   "source": [
    "# Active_ban VS videos"
   ]
  },
  {
   "cell_type": "code",
   "execution_count": null,
   "id": "26763790-1257-48fd-9e29-51d41e4502e5",
   "metadata": {
    "scrolled": true
   },
   "outputs": [],
   "source": [
    "active_ban = tik_tok_df[tik_tok_df['author_ban_status'] == 'active']\n",
    "banned_ban = tik_tok_df[tik_tok_df['author_ban_status'] == 'banned']\n",
    "under_review_ban = tik_tok_df[tik_tok_df['author_ban_status'] == 'under review']"
   ]
  },
  {
   "cell_type": "code",
   "execution_count": null,
   "id": "5dcbd8a5-e630-4380-9264-d2ec71a47288",
   "metadata": {},
   "outputs": [],
   "source": [
    "active_ban_mean_med = active_ban.drop(columns=['#', 'video_id','video_duration_sec']).select_dtypes(include=[np.number]).agg(['mean', 'median']).round(2)\n",
    "banned_ban_mean_med = banned_ban.drop(columns=['#', 'video_id','video_duration_sec']).select_dtypes(include=[np.number]).agg(['mean', 'median']).round(2)\n",
    "under_review_ban_mean_med = under_review_ban.drop(columns=['#', 'video_id','video_duration_sec']).select_dtypes(include=[np.number]).agg(['mean', 'median']).round(2)"
   ]
  },
  {
   "cell_type": "code",
   "execution_count": null,
   "id": "8ce26c8f-14a3-498e-89ee-91aefdb964a6",
   "metadata": {},
   "outputs": [],
   "source": [
    "author_ban_status = pd.concat({\n",
    "    'active': active_ban_mean_med,\n",
    "    'banned': banned_ban_mean_med,\n",
    "    'under_review': under_review_ban_mean_med\n",
    "})\n",
    "author_ban_status"
   ]
  },
  {
   "cell_type": "markdown",
   "id": "8e751332-72f6-4e36-bee7-7eb4c95fcea8",
   "metadata": {},
   "source": [
    "Who is banned has the most viewed, liked, shared, downloaded and commented videos, followed by under_review. These are people can are causing \"troubles\" in terms of report and likely to be reported."
   ]
  },
  {
   "cell_type": "code",
   "execution_count": null,
   "id": "de4cd2f4-9891-46fb-9943-e2ccb62b1471",
   "metadata": {},
   "outputs": [],
   "source": [
    "print(\"Number of active people:\", len(active_ban))\n",
    "print(\"Number of actual ban:\", len(banned_ban))\n",
    "print(\"Number of people under review:\", len(under_review_ban))"
   ]
  },
  {
   "cell_type": "code",
   "execution_count": null,
   "id": "6afd2698-2c4f-4389-ab60-9083ab68e71f",
   "metadata": {},
   "outputs": [],
   "source": [
    "verified = tik_tok_df[tik_tok_df['verified_status'] == 'verified']\n",
    "verified_mean = verified.drop(columns=['#', 'video_id','video_duration_sec']).select_dtypes(include=[np.number]).agg(['mean', 'median']).round(2)"
   ]
  },
  {
   "cell_type": "code",
   "execution_count": null,
   "id": "1ed3a17b-f3eb-4cc5-852d-01e368fd6aca",
   "metadata": {},
   "outputs": [],
   "source": [
    "not_verified = tik_tok_df[tik_tok_df['verified_status'] == 'not verified']\n",
    "not_verified_mean = not_verified.drop(columns=['#', 'video_id','video_duration_sec']).select_dtypes(include=[np.number]).agg(['mean', 'median']).round(2)"
   ]
  },
  {
   "cell_type": "code",
   "execution_count": null,
   "id": "200e665b-b16f-4549-ba56-93dbb4c94dc2",
   "metadata": {},
   "outputs": [],
   "source": [
    "print(\"Number of verified users:\", len(verified))\n",
    "print(\"Number of not verified users:\", len(not_verified))\n",
    "print(\"Percentage difference verified/not_Verified:\", round((len(verified) - len(not_verified)) / len(not_verified) * 100, 2))"
   ]
  },
  {
   "cell_type": "code",
   "execution_count": null,
   "id": "0f94608c-849e-4cd0-9b08-3f2accfb5e16",
   "metadata": {},
   "outputs": [],
   "source": [
    "verified_perc = (((verified_mean-not_verified_mean)/verified_mean)*100).round(2).drop('median').rename({'mean':'mean percentage'})\n",
    "verified_perc"
   ]
  },
  {
   "cell_type": "code",
   "execution_count": null,
   "id": "b2cf053c-d742-4c54-8901-6ae57cbcf8b2",
   "metadata": {},
   "outputs": [],
   "source": [
    "verified_and_not = pd.concat({'verified':verified_mean, 'not verified': not_verified_mean, 'percentage':verified_perc})\n",
    "verified_and_not"
   ]
  },
  {
   "cell_type": "code",
   "execution_count": null,
   "id": "8980fb56-2331-4597-b88b-fa328fe6803c",
   "metadata": {},
   "outputs": [],
   "source": [
    "tot = pd.concat({'claimings': claims_fin.drop('percentage claim/opinion'), 'author bans': author_ban_status, 'verifications': verified_and_not.drop('percentage')})\n",
    "tot"
   ]
  },
  {
   "cell_type": "markdown",
   "id": "4245a8cf-d089-4caf-bd05-5a39f0c0273e",
   "metadata": {},
   "source": [
    "# Final\n",
    "The **core findings** are that **claim** videos get disproportionately more interactions, channels under **active ban** are surprisingly the most viewed,liked,shared,downloaded, and that **unverified users** (especially those making claims) **dominate interactions**. \n",
    "\n",
    "The number of videos containing **claims and opinions** are almost in equal numbers.\n",
    "The **distribution** is evidently **right skewed** from the data. Plots would help understand more the situation.\n",
    "\n",
    "These findings hint at:\n",
    "\n",
    "* A “controversy‐drives‐engagement” effect: **claim-heavy content gets amplified.**\n",
    "\n",
    "* A paradox where  hit the **most popular creators** receive bans most often from TikTok’s moderation flags\n",
    "\n",
    "* **Verification status** as a measure for content type and engagement strategy."
   ]
  },
  {
   "cell_type": "markdown",
   "id": "897aef44-4ec5-47c5-bd76-0959d10d64a0",
   "metadata": {},
   "source": [
    "#  Data visualisation"
   ]
  },
  {
   "cell_type": "code",
   "execution_count": null,
   "id": "50bedb8d-8c35-4703-9c92-fd95781bf029",
   "metadata": {},
   "outputs": [],
   "source": [
    "claim_counts = tik_tok_df['claim_status'].value_counts()\n",
    "plt.figure()\n",
    "plt.bar(claim_counts.index, claim_counts.values, edgecolor='k')\n",
    "plt.title(\"Video Count by Claim Status\")\n",
    "plt.xlabel(\"Claim Status\")\n",
    "plt.ylabel(\"Number of Videos\")\n",
    "for idx, val in enumerate(claim_counts.values):\n",
    "    plt.text(idx, val + max(claim_counts.values)*0.01, f\"{val}\", ha='center')\n",
    "plt.tight_layout()\n",
    "plt.show()"
   ]
  },
  {
   "cell_type": "code",
   "execution_count": null,
   "id": "f9576ffb-6289-46f0-8dbf-f1647a959ee1",
   "metadata": {},
   "outputs": [],
   "source": [
    "metrics = ['video_view_count', 'video_like_count', 'video_share_count', \n",
    "           'video_download_count', 'video_comment_count']\n",
    "avg_engagement = tik_tok_df.groupby('author_ban_status')[metrics].mean()\n",
    "bottom = [0] * len(avg_engagement)\n",
    "\n",
    "plt.figure()\n",
    "for metric in metrics:\n",
    "    plt.bar(avg_engagement.index, avg_engagement[metric], bottom=bottom, edgecolor='k')\n",
    "    bottom = bottom + avg_engagement[metric].values\n",
    "plt.title(\"Average Engagement by Ban Status\")\n",
    "plt.xlabel(\"Author Ban Status\")\n",
    "plt.ylabel(\"Average Count\")\n",
    "plt.legend(metrics, title=\"Metrics\")\n",
    "plt.tight_layout()\n",
    "plt.show()"
   ]
  },
  {
   "cell_type": "code",
   "execution_count": null,
   "id": "6714b2ff-82b9-4b27-a56e-0d07bbb78ed3",
   "metadata": {},
   "outputs": [],
   "source": [
    "plt.figure()\n",
    "df.boxplot(column='video_like_count', by='verified_status')\n",
    "plt.title(\"Likes Distribution by Verification Status\")\n",
    "plt.suptitle(\"\")\n",
    "plt.xlabel(\"Verified Status\")\n",
    "plt.ylabel(\"Video Like Count\")\n",
    "plt.tight_layout()\n",
    "plt.show()"
   ]
  }
 ],
 "metadata": {
  "kernelspec": {
   "display_name": "Python 3 (ipykernel)",
   "language": "python",
   "name": "python3"
  },
  "language_info": {
   "codemirror_mode": {
    "name": "ipython",
    "version": 3
   },
   "file_extension": ".py",
   "mimetype": "text/x-python",
   "name": "python",
   "nbconvert_exporter": "python",
   "pygments_lexer": "ipython3",
   "version": "3.12.6"
  }
 },
 "nbformat": 4,
 "nbformat_minor": 5
}
